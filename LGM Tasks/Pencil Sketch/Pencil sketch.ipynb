{
 "cells": [
  {
   "cell_type": "markdown",
   "id": "c9c16e1c",
   "metadata": {},
   "source": [
    "\n",
    "# Lets Grow More #November 2021\n",
    "\n",
    "Author: Sameet Sable\n",
    "\n",
    "task 2: Image to Pencil Sketch with Python\n",
    "\n",
    "Language: Python\n",
    "\n",
    "Software: Jupyter Notebook\n"
   ]
  },
  {
   "cell_type": "markdown",
   "id": "7aa15cbb",
   "metadata": {},
   "source": [
    "# Importing required Modules and Libraries"
   ]
  },
  {
   "cell_type": "code",
   "execution_count": 22,
   "id": "aeae9b83",
   "metadata": {},
   "outputs": [],
   "source": [
    "import cv2\n",
    "import matplotlib.pyplot as plt"
   ]
  },
  {
   "cell_type": "markdown",
   "id": "8bf53e6f",
   "metadata": {},
   "source": [
    "# Setting up image location and file name"
   ]
  },
  {
   "cell_type": "code",
   "execution_count": 23,
   "id": "4723574d",
   "metadata": {},
   "outputs": [],
   "source": [
    "img_location =\"C:/Users/samee/Downloads/\"\n",
    "filename = \"leo.jfif\""
   ]
  },
  {
   "cell_type": "code",
   "execution_count": 24,
   "id": "8c7d291a",
   "metadata": {},
   "outputs": [],
   "source": [
    "img = cv2.imread(img_location+filename)"
   ]
  },
  {
   "cell_type": "code",
   "execution_count": 25,
   "id": "a568de40",
   "metadata": {},
   "outputs": [
    {
     "data": {
      "text/plain": [
       "-1"
      ]
     },
     "execution_count": 25,
     "metadata": {},
     "output_type": "execute_result"
    }
   ],
   "source": [
    "cv2.imshow(\"Original Image\",img)\n",
    "cv2.waitKey(0)"
   ]
  },
  {
   "cell_type": "markdown",
   "id": "3659d36f",
   "metadata": {},
   "source": [
    "# convert image to gray scale"
   ]
  },
  {
   "cell_type": "code",
   "execution_count": 26,
   "id": "d9d8f0e1",
   "metadata": {},
   "outputs": [
    {
     "data": {
      "text/plain": [
       "-1"
      ]
     },
     "execution_count": 26,
     "metadata": {},
     "output_type": "execute_result"
    }
   ],
   "source": [
    "gray_image=cv2.cvtColor(img,cv2.COLOR_BGR2GRAY)\n",
    "cv2.imshow(\"GrayScale Image\",gray_image)\n",
    "cv2.waitKey(0)"
   ]
  },
  {
   "cell_type": "code",
   "execution_count": 27,
   "id": "76eb15e7",
   "metadata": {},
   "outputs": [
    {
     "data": {
      "text/plain": [
       "-1"
      ]
     },
     "execution_count": 27,
     "metadata": {},
     "output_type": "execute_result"
    }
   ],
   "source": [
    "inverted_gray_image= 255-gray_image\n",
    "cv2.imshow(\"inverted  Image\",inverted_gray_image)\n",
    "cv2.waitKey(0)"
   ]
  },
  {
   "cell_type": "code",
   "execution_count": 10,
   "id": "af2a9cf6",
   "metadata": {},
   "outputs": [
    {
     "data": {
      "text/plain": [
       "-1"
      ]
     },
     "execution_count": 10,
     "metadata": {},
     "output_type": "execute_result"
    }
   ],
   "source": [
    "blurred_img =cv2.GaussianBlur(inverted_gray_image,(21,21),0)\n",
    "cv2.imshow(\"Blurred Image\",blurred_img)\n",
    "cv2.waitKey(0)"
   ]
  },
  {
   "cell_type": "code",
   "execution_count": 28,
   "id": "f0c79480",
   "metadata": {},
   "outputs": [],
   "source": [
    "inverted_blur_image = 255-blurred_img"
   ]
  },
  {
   "cell_type": "markdown",
   "id": "3dbf39da",
   "metadata": {},
   "source": [
    "# Final Sketch"
   ]
  },
  {
   "cell_type": "code",
   "execution_count": 29,
   "id": "1ddfde2f",
   "metadata": {},
   "outputs": [
    {
     "data": {
      "text/plain": [
       "-1"
      ]
     },
     "execution_count": 29,
     "metadata": {},
     "output_type": "execute_result"
    }
   ],
   "source": [
    "pencil_sktch_img=cv2.divide(gray_image,inverted_blur_image,scale = 256.0)\n",
    "cv2.imshow(\"Sketch\",pencil_sktch_img)\n",
    "cv2.waitKey(0)"
   ]
  },
  {
   "cell_type": "code",
   "execution_count": null,
   "id": "94f77387",
   "metadata": {},
   "outputs": [],
   "source": []
  }
 ],
 "metadata": {
  "kernelspec": {
   "display_name": "Python 3 (ipykernel)",
   "language": "python",
   "name": "python3"
  },
  "language_info": {
   "codemirror_mode": {
    "name": "ipython",
    "version": 3
   },
   "file_extension": ".py",
   "mimetype": "text/x-python",
   "name": "python",
   "nbconvert_exporter": "python",
   "pygments_lexer": "ipython3",
   "version": "3.9.7"
  }
 },
 "nbformat": 4,
 "nbformat_minor": 5
}
