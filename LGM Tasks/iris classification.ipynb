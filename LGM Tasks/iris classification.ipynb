{
 "cells": [
  {
   "cell_type": "markdown",
   "id": "212e9493",
   "metadata": {},
   "source": [
    "# Lets Grow More #November 2021\n",
    "\n",
    "Author:Sameet Sable\n",
    "    \n",
    "task 1: Iris dataset Classification\n",
    "    \n",
    "Language: Python\n",
    "    \n",
    "Software: Jupyter Notebook\n",
    "    \n",
    "Dataset Source : Sklearn Module contains Iris Dataset\n",
    "    "
   ]
  },
  {
   "cell_type": "code",
   "execution_count": 25,
   "id": "77d28c09",
   "metadata": {},
   "outputs": [],
   "source": [
    "from  sklearn import  datasets\n",
    "iris=datasets.load_iris()"
   ]
  },
  {
   "cell_type": "markdown",
   "id": "1cc4064c",
   "metadata": {},
   "source": [
    "# Putting the data into x,y variables for train-test-split"
   ]
  },
  {
   "cell_type": "code",
   "execution_count": 2,
   "id": "4796e613",
   "metadata": {},
   "outputs": [],
   "source": [
    "x=iris.data\n",
    "y=iris.target"
   ]
  },
  {
   "cell_type": "markdown",
   "id": "56df7756",
   "metadata": {},
   "source": [
    "# Splitting the dataset"
   ]
  },
  {
   "cell_type": "code",
   "execution_count": 14,
   "id": "c47be125",
   "metadata": {},
   "outputs": [],
   "source": [
    "from sklearn.model_selection import train_test_split\n",
    "x_train,x_test,y_train,y_test=train_test_split(x,y,test_size=.5)"
   ]
  },
  {
   "cell_type": "markdown",
   "id": "1df081fe",
   "metadata": {},
   "source": [
    "# Building the model"
   ]
  },
  {
   "cell_type": "code",
   "execution_count": 15,
   "id": "fb1d916c",
   "metadata": {},
   "outputs": [],
   "source": [
    "from sklearn import tree\n",
    "classifier=tree.DecisionTreeClassifier()"
   ]
  },
  {
   "cell_type": "markdown",
   "id": "ed4268cd",
   "metadata": {},
   "source": [
    "# We are using KNN beacuse it is efficient for this dataset"
   ]
  },
  {
   "cell_type": "code",
   "execution_count": 16,
   "id": "20cd3175",
   "metadata": {},
   "outputs": [],
   "source": [
    "from sklearn import neighbors\n",
    "classifier=neighbors.KNeighborsClassifier()"
   ]
  },
  {
   "cell_type": "code",
   "execution_count": 17,
   "id": "6b22ab82",
   "metadata": {},
   "outputs": [
    {
     "data": {
      "text/plain": [
       "KNeighborsClassifier()"
      ]
     },
     "execution_count": 17,
     "metadata": {},
     "output_type": "execute_result"
    }
   ],
   "source": [
    "classifier.fit(x_train,y_train)"
   ]
  },
  {
   "cell_type": "markdown",
   "id": "919ac97c",
   "metadata": {},
   "source": [
    "# Making the predictions using predict function to check the accuracy"
   ]
  },
  {
   "cell_type": "code",
   "execution_count": 18,
   "id": "ee970fac",
   "metadata": {},
   "outputs": [],
   "source": [
    "predictions=classifier.predict(x_test)"
   ]
  },
  {
   "cell_type": "code",
   "execution_count": 22,
   "id": "72809523",
   "metadata": {},
   "outputs": [
    {
     "name": "stdout",
     "output_type": "stream",
     "text": [
      "the accuracy is  0.96\n"
     ]
    }
   ],
   "source": [
    "from sklearn.metrics import accuracy_score\n",
    "print(\"the accuracy is \",accuracy_score(y_test,predictions))"
   ]
  },
  {
   "cell_type": "markdown",
   "id": "cfec934d",
   "metadata": {},
   "source": [
    "# The model is working with 96.00% accuracy"
   ]
  },
  {
   "cell_type": "code",
   "execution_count": null,
   "id": "5a2c394f",
   "metadata": {},
   "outputs": [],
   "source": []
  }
 ],
 "metadata": {
  "kernelspec": {
   "display_name": "Python 3 (ipykernel)",
   "language": "python",
   "name": "python3"
  },
  "language_info": {
   "codemirror_mode": {
    "name": "ipython",
    "version": 3
   },
   "file_extension": ".py",
   "mimetype": "text/x-python",
   "name": "python",
   "nbconvert_exporter": "python",
   "pygments_lexer": "ipython3",
   "version": "3.9.7"
  }
 },
 "nbformat": 4,
 "nbformat_minor": 5
}
